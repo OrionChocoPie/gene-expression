{
 "cells": [
  {
   "cell_type": "code",
   "execution_count": 8,
   "metadata": {},
   "outputs": [],
   "source": [
    "import numpy as np\n",
    "np.random.seed(42)\n",
    "import pandas as pd\n",
    "from scipy.stats import ttest_ind\n",
    "from numba import njit, jit\n",
    "import matplotlib.pyplot as plt\n",
    "import seaborn as sns\n",
    "sns.set(rc={'figure.figsize':(11.7,8.27)})\n",
    "\n",
    "from scipy.spatial.distance import squareform\n",
    "from scipy.cluster import hierarchy\n",
    "from scipy.stats import entropy"
   ]
  },
  {
   "cell_type": "code",
   "execution_count": 2,
   "metadata": {},
   "outputs": [
    {
     "name": "stdout",
     "output_type": "stream",
     "text": [
      "['Agilent' 'Illumina_NGS' 'Affymetrix_U133' 'Illumina_Chip'\n",
      " 'Affymetrix_HUG' 'Affymetrix_PRV']\n"
     ]
    },
    {
     "data": {
      "text/html": [
       "<div>\n",
       "<style scoped>\n",
       "    .dataframe tbody tr th:only-of-type {\n",
       "        vertical-align: middle;\n",
       "    }\n",
       "\n",
       "    .dataframe tbody tr th {\n",
       "        vertical-align: top;\n",
       "    }\n",
       "\n",
       "    .dataframe thead th {\n",
       "        text-align: right;\n",
       "    }\n",
       "</style>\n",
       "<table border=\"1\" class=\"dataframe\">\n",
       "  <thead>\n",
       "    <tr style=\"text-align: right;\">\n",
       "      <th></th>\n",
       "      <th>CN</th>\n",
       "      <th>type</th>\n",
       "      <th>plat</th>\n",
       "      <th>TP</th>\n",
       "    </tr>\n",
       "  </thead>\n",
       "  <tbody>\n",
       "    <tr>\n",
       "      <th>0</th>\n",
       "      <td>C_189</td>\n",
       "      <td>Solid tumor</td>\n",
       "      <td>Agilent</td>\n",
       "      <td>Solid tumor_Agilent</td>\n",
       "    </tr>\n",
       "    <tr>\n",
       "      <th>1</th>\n",
       "      <td>C_1764</td>\n",
       "      <td>Solid tumor</td>\n",
       "      <td>Agilent</td>\n",
       "      <td>Solid tumor_Agilent</td>\n",
       "    </tr>\n",
       "    <tr>\n",
       "      <th>2</th>\n",
       "      <td>C_1741</td>\n",
       "      <td>Solid tumor</td>\n",
       "      <td>Agilent</td>\n",
       "      <td>Solid tumor_Agilent</td>\n",
       "    </tr>\n",
       "    <tr>\n",
       "      <th>3</th>\n",
       "      <td>C_4556</td>\n",
       "      <td>Solid tumor</td>\n",
       "      <td>Agilent</td>\n",
       "      <td>Solid tumor_Agilent</td>\n",
       "    </tr>\n",
       "    <tr>\n",
       "      <th>4</th>\n",
       "      <td>C_3776</td>\n",
       "      <td>Solid tumor</td>\n",
       "      <td>Agilent</td>\n",
       "      <td>Solid tumor_Agilent</td>\n",
       "    </tr>\n",
       "  </tbody>\n",
       "</table>\n",
       "</div>"
      ],
      "text/plain": [
       "       CN         type     plat                   TP\n",
       "0   C_189  Solid tumor  Agilent  Solid tumor_Agilent\n",
       "1  C_1764  Solid tumor  Agilent  Solid tumor_Agilent\n",
       "2  C_1741  Solid tumor  Agilent  Solid tumor_Agilent\n",
       "3  C_4556  Solid tumor  Agilent  Solid tumor_Agilent\n",
       "4  C_3776  Solid tumor  Agilent  Solid tumor_Agilent"
      ]
     },
     "execution_count": 2,
     "metadata": {},
     "output_type": "execute_result"
    }
   ],
   "source": [
    "meta = pd.read_csv('../data/reduced/meta_01.csv')\n",
    "print(meta['plat'].unique())\n",
    "meta.head()"
   ]
  },
  {
   "cell_type": "code",
   "execution_count": 3,
   "metadata": {},
   "outputs": [],
   "source": [
    "data = pd.read_csv('../data/reduced/DESeq2_01.csv')\n",
    "data.columns = meta['CN']\n",
    "data = data.astype(float).T"
   ]
  },
  {
   "cell_type": "code",
   "execution_count": 4,
   "metadata": {},
   "outputs": [
    {
     "data": {
      "text/html": [
       "<div>\n",
       "<style scoped>\n",
       "    .dataframe tbody tr th:only-of-type {\n",
       "        vertical-align: middle;\n",
       "    }\n",
       "\n",
       "    .dataframe tbody tr th {\n",
       "        vertical-align: top;\n",
       "    }\n",
       "\n",
       "    .dataframe thead th {\n",
       "        text-align: right;\n",
       "    }\n",
       "</style>\n",
       "<table border=\"1\" class=\"dataframe\">\n",
       "  <thead>\n",
       "    <tr style=\"text-align: right;\">\n",
       "      <th></th>\n",
       "      <th>A2M</th>\n",
       "      <th>AACS</th>\n",
       "      <th>AAK1</th>\n",
       "      <th>AAMP</th>\n",
       "      <th>AANAT</th>\n",
       "      <th>AASDHPPT</th>\n",
       "      <th>AASS</th>\n",
       "      <th>AATF</th>\n",
       "      <th>AATK</th>\n",
       "      <th>ABAT</th>\n",
       "      <th>...</th>\n",
       "      <th>ZSCAN2</th>\n",
       "      <th>ZSWIM1</th>\n",
       "      <th>ZW10</th>\n",
       "      <th>ZWILCH</th>\n",
       "      <th>ZWINT</th>\n",
       "      <th>ZXDA</th>\n",
       "      <th>ZXDC</th>\n",
       "      <th>ZYX</th>\n",
       "      <th>ZZEF1</th>\n",
       "      <th>ZZZ3</th>\n",
       "    </tr>\n",
       "    <tr>\n",
       "      <th>CN</th>\n",
       "      <th></th>\n",
       "      <th></th>\n",
       "      <th></th>\n",
       "      <th></th>\n",
       "      <th></th>\n",
       "      <th></th>\n",
       "      <th></th>\n",
       "      <th></th>\n",
       "      <th></th>\n",
       "      <th></th>\n",
       "      <th></th>\n",
       "      <th></th>\n",
       "      <th></th>\n",
       "      <th></th>\n",
       "      <th></th>\n",
       "      <th></th>\n",
       "      <th></th>\n",
       "      <th></th>\n",
       "      <th></th>\n",
       "      <th></th>\n",
       "      <th></th>\n",
       "    </tr>\n",
       "  </thead>\n",
       "  <tbody>\n",
       "    <tr>\n",
       "      <th>C_189</th>\n",
       "      <td>13409.232939</td>\n",
       "      <td>1211.026306</td>\n",
       "      <td>14.993659</td>\n",
       "      <td>2847.065177</td>\n",
       "      <td>135.231271</td>\n",
       "      <td>3041.694404</td>\n",
       "      <td>290.069634</td>\n",
       "      <td>3496.982627</td>\n",
       "      <td>113.605801</td>\n",
       "      <td>449.809771</td>\n",
       "      <td>...</td>\n",
       "      <td>89.096935</td>\n",
       "      <td>143.881459</td>\n",
       "      <td>1409.692288</td>\n",
       "      <td>1092.518731</td>\n",
       "      <td>7727.501188</td>\n",
       "      <td>19.607093</td>\n",
       "      <td>407.135510</td>\n",
       "      <td>592.537871</td>\n",
       "      <td>573.219118</td>\n",
       "      <td>929.030180</td>\n",
       "    </tr>\n",
       "    <tr>\n",
       "      <th>C_1764</th>\n",
       "      <td>14292.127154</td>\n",
       "      <td>1290.137629</td>\n",
       "      <td>30.284921</td>\n",
       "      <td>2951.097289</td>\n",
       "      <td>288.379746</td>\n",
       "      <td>2928.551848</td>\n",
       "      <td>260.450319</td>\n",
       "      <td>3426.570546</td>\n",
       "      <td>126.523669</td>\n",
       "      <td>501.047191</td>\n",
       "      <td>...</td>\n",
       "      <td>86.143775</td>\n",
       "      <td>137.964639</td>\n",
       "      <td>1117.850079</td>\n",
       "      <td>1343.304490</td>\n",
       "      <td>6672.777564</td>\n",
       "      <td>21.535944</td>\n",
       "      <td>339.527613</td>\n",
       "      <td>750.729538</td>\n",
       "      <td>652.471795</td>\n",
       "      <td>824.086347</td>\n",
       "    </tr>\n",
       "    <tr>\n",
       "      <th>C_1741</th>\n",
       "      <td>13684.675623</td>\n",
       "      <td>1130.859917</td>\n",
       "      <td>40.562391</td>\n",
       "      <td>2579.377114</td>\n",
       "      <td>597.195686</td>\n",
       "      <td>1993.421608</td>\n",
       "      <td>368.971148</td>\n",
       "      <td>2845.231822</td>\n",
       "      <td>239.464719</td>\n",
       "      <td>511.672573</td>\n",
       "      <td>...</td>\n",
       "      <td>168.602710</td>\n",
       "      <td>129.506430</td>\n",
       "      <td>788.278758</td>\n",
       "      <td>1336.115390</td>\n",
       "      <td>4836.698616</td>\n",
       "      <td>29.810914</td>\n",
       "      <td>339.648938</td>\n",
       "      <td>1054.133466</td>\n",
       "      <td>591.819948</td>\n",
       "      <td>1041.915878</td>\n",
       "    </tr>\n",
       "    <tr>\n",
       "      <th>C_4556</th>\n",
       "      <td>19807.193076</td>\n",
       "      <td>1593.901874</td>\n",
       "      <td>12.741022</td>\n",
       "      <td>3981.569430</td>\n",
       "      <td>54.149344</td>\n",
       "      <td>2559.671355</td>\n",
       "      <td>255.457495</td>\n",
       "      <td>4224.922954</td>\n",
       "      <td>98.105871</td>\n",
       "      <td>449.758083</td>\n",
       "      <td>...</td>\n",
       "      <td>87.276002</td>\n",
       "      <td>98.105871</td>\n",
       "      <td>1382.400906</td>\n",
       "      <td>1274.739269</td>\n",
       "      <td>7012.658606</td>\n",
       "      <td>12.741022</td>\n",
       "      <td>361.207979</td>\n",
       "      <td>939.013334</td>\n",
       "      <td>445.298725</td>\n",
       "      <td>640.873415</td>\n",
       "    </tr>\n",
       "    <tr>\n",
       "      <th>C_3776</th>\n",
       "      <td>17281.523132</td>\n",
       "      <td>1432.289198</td>\n",
       "      <td>13.436109</td>\n",
       "      <td>4519.011258</td>\n",
       "      <td>177.356636</td>\n",
       "      <td>1988.544102</td>\n",
       "      <td>317.987908</td>\n",
       "      <td>3662.683257</td>\n",
       "      <td>201.541632</td>\n",
       "      <td>435.329925</td>\n",
       "      <td>...</td>\n",
       "      <td>113.759054</td>\n",
       "      <td>100.322946</td>\n",
       "      <td>732.715800</td>\n",
       "      <td>968.295574</td>\n",
       "      <td>8815.878851</td>\n",
       "      <td>21.497774</td>\n",
       "      <td>311.717724</td>\n",
       "      <td>1178.794612</td>\n",
       "      <td>481.012695</td>\n",
       "      <td>755.109314</td>\n",
       "    </tr>\n",
       "  </tbody>\n",
       "</table>\n",
       "<p>5 rows × 6501 columns</p>\n",
       "</div>"
      ],
      "text/plain": [
       "                 A2M         AACS       AAK1         AAMP       AANAT  \\\n",
       "CN                                                                      \n",
       "C_189   13409.232939  1211.026306  14.993659  2847.065177  135.231271   \n",
       "C_1764  14292.127154  1290.137629  30.284921  2951.097289  288.379746   \n",
       "C_1741  13684.675623  1130.859917  40.562391  2579.377114  597.195686   \n",
       "C_4556  19807.193076  1593.901874  12.741022  3981.569430   54.149344   \n",
       "C_3776  17281.523132  1432.289198  13.436109  4519.011258  177.356636   \n",
       "\n",
       "           AASDHPPT        AASS         AATF        AATK        ABAT  ...  \\\n",
       "CN                                                                    ...   \n",
       "C_189   3041.694404  290.069634  3496.982627  113.605801  449.809771  ...   \n",
       "C_1764  2928.551848  260.450319  3426.570546  126.523669  501.047191  ...   \n",
       "C_1741  1993.421608  368.971148  2845.231822  239.464719  511.672573  ...   \n",
       "C_4556  2559.671355  255.457495  4224.922954   98.105871  449.758083  ...   \n",
       "C_3776  1988.544102  317.987908  3662.683257  201.541632  435.329925  ...   \n",
       "\n",
       "            ZSCAN2      ZSWIM1         ZW10       ZWILCH        ZWINT  \\\n",
       "CN                                                                      \n",
       "C_189    89.096935  143.881459  1409.692288  1092.518731  7727.501188   \n",
       "C_1764   86.143775  137.964639  1117.850079  1343.304490  6672.777564   \n",
       "C_1741  168.602710  129.506430   788.278758  1336.115390  4836.698616   \n",
       "C_4556   87.276002   98.105871  1382.400906  1274.739269  7012.658606   \n",
       "C_3776  113.759054  100.322946   732.715800   968.295574  8815.878851   \n",
       "\n",
       "             ZXDA        ZXDC          ZYX       ZZEF1         ZZZ3  \n",
       "CN                                                                   \n",
       "C_189   19.607093  407.135510   592.537871  573.219118   929.030180  \n",
       "C_1764  21.535944  339.527613   750.729538  652.471795   824.086347  \n",
       "C_1741  29.810914  339.648938  1054.133466  591.819948  1041.915878  \n",
       "C_4556  12.741022  361.207979   939.013334  445.298725   640.873415  \n",
       "C_3776  21.497774  311.717724  1178.794612  481.012695   755.109314  \n",
       "\n",
       "[5 rows x 6501 columns]"
      ]
     },
     "execution_count": 4,
     "metadata": {},
     "output_type": "execute_result"
    }
   ],
   "source": [
    "data.head()"
   ]
  },
  {
   "cell_type": "code",
   "execution_count": 5,
   "metadata": {},
   "outputs": [],
   "source": []
  },
  {
   "cell_type": "code",
   "execution_count": 6,
   "metadata": {},
   "outputs": [
    {
     "data": {
      "image/png": "[encoded data removed]",
      "text/plain": [
       "<Figure size 842.4x595.44 with 1 Axes>"
      ]
     },
     "metadata": {},
     "output_type": "display_data"
    }
   ],
   "source": [
    "Z = hierarchy.linkage(data, 'single')\n",
    "plt.figure()\n",
    "dn = hierarchy.dendrogram(Z)"
   ]
  },
  {
   "cell_type": "code",
   "execution_count": 7,
   "metadata": {},
   "outputs": [],
   "source": [
    "tree = hierarchy.to_tree(Z)\n",
    "head_id = tree.id\n",
    "\n",
    "def find_children(tree):\n",
    "    values = tree.pre_order(lambda x: x.id)\n",
    "    pair = {head_id - tree.id: values}\n",
    "    \n",
    "    if not tree.left.is_leaf():\n",
    "        pair.update(find_children(tree.left))\n",
    "    if not tree.right.is_leaf():\n",
    "        pair.update(find_children(tree.right))\n",
    "        \n",
    "    return pair\n",
    "\n",
    "child_clusters = find_children(tree)"
   ]
  },
  {
   "cell_type": "code",
   "execution_count": 62,
   "metadata": {},
   "outputs": [
    {
     "data": {
      "text/plain": [
       "False"
      ]
     },
     "execution_count": 62,
     "metadata": {},
     "output_type": "execute_result"
    }
   ],
   "source": [
    "tree.right.is_leaf()"
   ]
  },
  {
   "cell_type": "code",
   "execution_count": 71,
   "metadata": {},
   "outputs": [],
   "source": [
    "def find_subclusters(tree):\n",
    "    pair = {head_id - tree.id: []}\n",
    "    \n",
    "    if not tree.left.is_leaf():\n",
    "        pair[head_id - tree.id].append(head_id - tree.left.id)\n",
    "        pair.update(find_subclusters(tree.left))\n",
    "    else:\n",
    "        pair[head_id - tree.id].append(None)\n",
    "    if not tree.right.is_leaf():\n",
    "        pair[head_id - tree.id].append(head_id - tree.right.id)\n",
    "        pair.update(find_subclusters(tree.right))\n",
    "    else:\n",
    "        pair[head_id - tree.id].append(None)\n",
    "        \n",
    "    return pair\n",
    "\n",
    "subcluster_clusters = find_subclusters(tree)"
   ]
  },
  {
   "cell_type": "code",
   "execution_count": 72,
   "metadata": {},
   "outputs": [],
   "source": [
    "label_clusters = {k: meta.iloc[v]['plat'].values for k, v in child_clusters.items()}"
   ]
  },
  {
   "cell_type": "code",
   "execution_count": 73,
   "metadata": {},
   "outputs": [],
   "source": [
    "def calc_entropy(labels):\n",
    "    counts = np.unique(labels, return_counts=True)[1]\n",
    "    return entropy(counts)\n",
    "\n",
    "entropy_clusters = {k: calc_entropy(v) for k, v in label_clusters.items()}"
   ]
  },
  {
   "cell_type": "code",
   "execution_count": 111,
   "metadata": {},
   "outputs": [
    {
     "data": {
      "text/plain": [
       "0.6931471805599453"
      ]
     },
     "execution_count": 111,
     "metadata": {},
     "output_type": "execute_result"
    }
   ],
   "source": [
    "k = 1\n",
    "a = 2\n",
    "- k/a * np.log(k/a) - (1 - k/a) * np.log(1 - k/a)"
   ]
  },
  {
   "cell_type": "code",
   "execution_count": 134,
   "metadata": {},
   "outputs": [
    {
     "name": "stdout",
     "output_type": "stream",
     "text": [
      "1.602803189007172 0 1.607690041513806 0.0 0.9961787428661365\n",
      "1.607690041513806 0.0 1.4572341436122 0.0 0.843903490176925\n",
      "1.4572341436122 0 1.4618959856016887 0.0 0.9957679984440732\n",
      "1.4618959856016887 0 1.466554400570078 0.0 0.995700090212524\n",
      "1.466554400570078 0 1.4712074438570384 0.0 0.995630119950043\n",
      "1.4712074438570384 0 1.4758530354233697 0.0 0.9955579933511285\n",
      "1.4758530354233697 0 1.4804889502588567 0.0 0.9954836102424054\n",
      "1.4804889502588567 0.0 1.489722061752916 0.0 0.9907559664976949\n",
      "1.489722061752916 0 1.4943139858283225 0.0 0.9952458219417496\n",
      "1.4943139858283225 1.2567611867145763 0.0 0.7085833695209204 0.0\n",
      "1.2567611867145763 0 1.2615779496646051 0.0 0.9944510657622165\n",
      "1.2615779496646051 0 1.2663858201818625 0.0 0.994341082511713\n",
      "1.2663858201818625 0.0 0.9905025934219388 0.0 0.6629645180170544\n",
      "0.9905025934219388 0 0.9949236325717752 0.0 0.9931773242039433\n",
      "0.9949236325717752 0.0 0.5623351446188083 0.0 0.41105769415796894\n",
      "0.5623351446188083 0.5936148767694077 0.0 0.9401657617916396 0.0\n",
      "0.5936148767694077 0.0 0.0 0.0 0.0\n"
     ]
    }
   ],
   "source": [
    "def information_gain(parent, left, right):\n",
    "    if entropy_clusters[parent] == 0:\n",
    "        return 1\n",
    "    \n",
    "    N = len(child_clusters[parent])\n",
    "\n",
    "    if left is not None:\n",
    "        n_l = len(child_clusters[left])\n",
    "        entropy_l = entropy_clusters[left]\n",
    "    else:\n",
    "        n_l = 1\n",
    "        entropy_l = 0\n",
    "        \n",
    "    if right is not None:\n",
    "        n_r = len(child_clusters[right])\n",
    "        entropy_r = entropy_clusters[right]\n",
    "    else:\n",
    "        n_r = 1\n",
    "        entropy_r = 0\n",
    "    print(entropy_clusters[parent], entropy_l, entropy_r, n_l / N * entropy_l / entropy_clusters[parent], n_r / N * entropy_r / entropy_clusters[parent])\n",
    "    return 1 - (n_l / N * entropy_l / entropy_clusters[parent] + n_r / N * entropy_r / entropy_clusters[parent])\n",
    "\n",
    "ig_clusters = {k: information_gain(k, left, right) for k, (left, right) in subcluster_clusters.items()}"
   ]
  },
  {
   "cell_type": "code",
   "execution_count": 135,
   "metadata": {},
   "outputs": [
    {
     "data": {
      "text/plain": [
       "145"
      ]
     },
     "execution_count": 135,
     "metadata": {},
     "output_type": "execute_result"
    }
   ],
   "source": [
    "len(ig_clusters)"
   ]
  },
  {
   "cell_type": "code",
   "execution_count": 136,
   "metadata": {},
   "outputs": [],
   "source": [
    "a, b = list(zip(*sorted(list(ig_clusters.items()))))"
   ]
  },
  {
   "cell_type": "code",
   "execution_count": 137,
   "metadata": {},
   "outputs": [
    {
     "data": {
      "text/plain": [
       "[<matplotlib.lines.Line2D at 0x15845794fc8>]"
      ]
     },
     "execution_count": 137,
     "metadata": {},
     "output_type": "execute_result"
    },
    {
     "data": {
      "image/png": "[encoded data removed]",
      "text/plain": [
       "<Figure size 842.4x595.44 with 1 Axes>"
      ]
     },
     "metadata": {},
     "output_type": "display_data"
    }
   ],
   "source": [
    "plt.plot(a, b)"
   ]
  },
  {
   "cell_type": "code",
   "execution_count": null,
   "metadata": {},
   "outputs": [],
   "source": []
  }
 ],
 "metadata": {
  "kernelspec": {
   "display_name": "Python 3",
   "language": "python",
   "name": "python3"
  },
  "language_info": {
   "codemirror_mode": {
    "name": "ipython",
    "version": 3
   },
   "file_extension": ".py",
   "mimetype": "text/x-python",
   "name": "python",
   "nbconvert_exporter": "python",
   "pygments_lexer": "ipython3",
   "version": "3.7.9"
  }
 },
 "nbformat": 4,
 "nbformat_minor": 4
}
